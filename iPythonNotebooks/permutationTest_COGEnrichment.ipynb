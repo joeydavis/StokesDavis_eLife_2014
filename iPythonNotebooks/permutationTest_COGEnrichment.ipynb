{
 "metadata": {
  "name": ""
 },
 "nbformat": 3,
 "nbformat_minor": 0,
 "worksheets": [
  {
   "cells": [
    {
     "cell_type": "code",
     "collapsed": false,
     "input": [
      "import numpy\n",
      "import scipy\n",
      "import matplotlib\n",
      "import pandas"
     ],
     "language": "python",
     "metadata": {},
     "outputs": [],
     "prompt_number": 1
    },
    {
     "cell_type": "code",
     "collapsed": false,
     "input": [
      "raw = pandas.read_csv('/home/jhdavis/JStokes/COGRawData.csv', sep='\\t')"
     ],
     "language": "python",
     "metadata": {},
     "outputs": [],
     "prompt_number": 2
    },
    {
     "cell_type": "code",
     "collapsed": false,
     "input": [
      "raw"
     ],
     "language": "python",
     "metadata": {},
     "outputs": [
      {
       "html": [
        "<div style=\"max-height:1000px;max-width:1500px;overflow:auto;\">\n",
        "<table border=\"1\" class=\"dataframe\">\n",
        "  <thead>\n",
        "    <tr style=\"text-align: right;\">\n",
        "      <th></th>\n",
        "      <th>Class</th>\n",
        "      <th>% cold sensitive</th>\n",
        "      <th>Absolute cold sensitive</th>\n",
        "      <th>Total non-essential</th>\n",
        "    </tr>\n",
        "  </thead>\n",
        "  <tbody>\n",
        "    <tr>\n",
        "      <th>0 </th>\n",
        "      <td> Translation, ribosome structure &amp; biogenesis</td>\n",
        "      <td> 20.8696</td>\n",
        "      <td> 24</td>\n",
        "      <td>  115</td>\n",
        "    </tr>\n",
        "    <tr>\n",
        "      <th>1 </th>\n",
        "      <td>      DNA replication, recombination &amp; repair</td>\n",
        "      <td>  7.3684</td>\n",
        "      <td> 11</td>\n",
        "      <td>  150</td>\n",
        "    </tr>\n",
        "    <tr>\n",
        "      <th>2 </th>\n",
        "      <td>                                Transcription</td>\n",
        "      <td>  3.7931</td>\n",
        "      <td>  8</td>\n",
        "      <td>  211</td>\n",
        "    </tr>\n",
        "    <tr>\n",
        "      <th>3 </th>\n",
        "      <td>                    Envelope / outer membrane</td>\n",
        "      <td>  7.7720</td>\n",
        "      <td> 15</td>\n",
        "      <td>  193</td>\n",
        "    </tr>\n",
        "    <tr>\n",
        "      <th>4 </th>\n",
        "      <td>              Division, chromosome partioning</td>\n",
        "      <td>  7.6923</td>\n",
        "      <td>  1</td>\n",
        "      <td>   13</td>\n",
        "    </tr>\n",
        "    <tr>\n",
        "      <th>5 </th>\n",
        "      <td>                        Motility &amp;  secretion</td>\n",
        "      <td>  4.5455</td>\n",
        "      <td>  5</td>\n",
        "      <td>  110</td>\n",
        "    </tr>\n",
        "    <tr>\n",
        "      <th>6 </th>\n",
        "      <td>                          Signal transduction</td>\n",
        "      <td>  4.0462</td>\n",
        "      <td>  6</td>\n",
        "      <td>  148</td>\n",
        "    </tr>\n",
        "    <tr>\n",
        "      <th>7 </th>\n",
        "      <td>              Protein modification / turnover</td>\n",
        "      <td>  1.5267</td>\n",
        "      <td>  2</td>\n",
        "      <td>  131</td>\n",
        "    </tr>\n",
        "    <tr>\n",
        "      <th>8 </th>\n",
        "      <td>                         Co-enzyme metabolism</td>\n",
        "      <td> 10.4000</td>\n",
        "      <td> 12</td>\n",
        "      <td>  115</td>\n",
        "    </tr>\n",
        "    <tr>\n",
        "      <th>9 </th>\n",
        "      <td>            Nucleotide transport &amp; metabolism</td>\n",
        "      <td>  6.9767</td>\n",
        "      <td>  5</td>\n",
        "      <td>   72</td>\n",
        "    </tr>\n",
        "    <tr>\n",
        "      <th>10</th>\n",
        "      <td>               Energy production &amp; conversion</td>\n",
        "      <td>  6.0714</td>\n",
        "      <td> 14</td>\n",
        "      <td>  230</td>\n",
        "    </tr>\n",
        "    <tr>\n",
        "      <th>11</th>\n",
        "      <td>                                Inorganic ion</td>\n",
        "      <td>  3.7915</td>\n",
        "      <td>  5</td>\n",
        "      <td>  132</td>\n",
        "    </tr>\n",
        "    <tr>\n",
        "      <th>12</th>\n",
        "      <td>            Amino acid transport &amp; metabolism</td>\n",
        "      <td>  3.3898</td>\n",
        "      <td> 11</td>\n",
        "      <td>  325</td>\n",
        "    </tr>\n",
        "    <tr>\n",
        "      <th>13</th>\n",
        "      <td>          Carbohydrate transport &amp; metabolism</td>\n",
        "      <td>  2.7701</td>\n",
        "      <td>  9</td>\n",
        "      <td>  325</td>\n",
        "    </tr>\n",
        "    <tr>\n",
        "      <th>14</th>\n",
        "      <td>                             Lipid metabolism</td>\n",
        "      <td>  2.7027</td>\n",
        "      <td>  2</td>\n",
        "      <td>   74</td>\n",
        "    </tr>\n",
        "    <tr>\n",
        "      <th>15</th>\n",
        "      <td>                General prediction or unknown</td>\n",
        "      <td>  2.0171</td>\n",
        "      <td> 25</td>\n",
        "      <td> 1239</td>\n",
        "    </tr>\n",
        "  </tbody>\n",
        "</table>\n",
        "<p>16 rows \u00d7 4 columns</p>\n",
        "</div>"
       ],
       "metadata": {},
       "output_type": "pyout",
       "prompt_number": 3,
       "text": [
        "                                           Class  % cold sensitive  \\\n",
        "0   Translation, ribosome structure & biogenesis           20.8696   \n",
        "1        DNA replication, recombination & repair            7.3684   \n",
        "2                                  Transcription            3.7931   \n",
        "3                      Envelope / outer membrane            7.7720   \n",
        "4                Division, chromosome partioning            7.6923   \n",
        "5                          Motility &  secretion            4.5455   \n",
        "6                            Signal transduction            4.0462   \n",
        "7                Protein modification / turnover            1.5267   \n",
        "8                           Co-enzyme metabolism           10.4000   \n",
        "9              Nucleotide transport & metabolism            6.9767   \n",
        "10                Energy production & conversion            6.0714   \n",
        "11                                 Inorganic ion            3.7915   \n",
        "12             Amino acid transport & metabolism            3.3898   \n",
        "13           Carbohydrate transport & metabolism            2.7701   \n",
        "14                              Lipid metabolism            2.7027   \n",
        "15                 General prediction or unknown            2.0171   \n",
        "\n",
        "    Absolute cold sensitive  Total non-essential  \n",
        "0                        24                  115  \n",
        "1                        11                  150  \n",
        "2                         8                  211  \n",
        "3                        15                  193  \n",
        "4                         1                   13  \n",
        "5                         5                  110  \n",
        "6                         6                  148  \n",
        "7                         2                  131  \n",
        "8                        12                  115  \n",
        "9                         5                   72  \n",
        "10                       14                  230  \n",
        "11                        5                  132  \n",
        "12                       11                  325  \n",
        "13                        9                  325  \n",
        "14                        2                   74  \n",
        "15                       25                 1239  \n",
        "\n",
        "[16 rows x 4 columns]"
       ]
      }
     ],
     "prompt_number": 3
    },
    {
     "cell_type": "code",
     "collapsed": false,
     "input": [
      "theArray = []\n",
      "cutPosArray = raw['Total non-essential'].cumsum().values.tolist()\n",
      "cumTot = 0\n",
      "for i in range(raw.shape[0]):\n",
      "    cs = raw.loc[i]['Absolute cold sensitive']\n",
      "    tot = raw.loc[i]['Total non-essential']\n",
      "    notCs = tot-cs\n",
      "    for j in range(cs):\n",
      "        theArray.append(1)\n",
      "    for j in range(notCs):\n",
      "        theArray.append(0)"
     ],
     "language": "python",
     "metadata": {},
     "outputs": [],
     "prompt_number": 4
    },
    {
     "cell_type": "code",
     "collapsed": false,
     "input": [
      "def calcFracs(a, cpa):\n",
      "    toReturn = [0.0]*len(cpa)\n",
      "    last = 0\n",
      "    npa = numpy.array(theArray)\n",
      "    for i, cp in enumerate(cpa):\n",
      "        toReturn[i] = float(npa[last:cp].sum())/float(cp-last)*100.0\n",
      "        last = cp\n",
      "    return toReturn"
     ],
     "language": "python",
     "metadata": {},
     "outputs": [],
     "prompt_number": 5
    },
    {
     "cell_type": "code",
     "collapsed": false,
     "input": [
      "def calcTrial(theArray, cutPosArray):\n",
      "    numpy.random.shuffle(theArray)\n",
      "    x = calcFracs(theArray, cutPosArray)\n",
      "    return float(x[0])"
     ],
     "language": "python",
     "metadata": {},
     "outputs": [],
     "prompt_number": 6
    },
    {
     "cell_type": "code",
     "collapsed": false,
     "input": [
      "numTrials = 1000000\n",
      "maxCS = [calcTrial(theArray, cutPosArray) for i in range(numTrials)]"
     ],
     "language": "python",
     "metadata": {},
     "outputs": [],
     "prompt_number": 11
    },
    {
     "cell_type": "code",
     "collapsed": false,
     "input": [
      "f = pylab.figure(figsize=(10,5))\n",
      "a = f.add_subplot(111)\n",
      "binwidth = 1\n",
      "maxCSf = [float(i) for i in maxCS]\n",
      "hist, bins = numpy.histogram(maxCSf, bins=100)\n",
      "width = 0.7 * (bins[1] - bins[0])\n",
      "center = (bins[:-1] + bins[1:]) / 2\n",
      "a.bar(center, hist, align='center', width=width)\n",
      "a.set_xlabel('percentage cold sensitive in \"tranlsation category\"')\n",
      "a.set_ylabel('occurances')\n",
      "pylab.savefig('/home/jhdavis/JStokes/swaps.png')"
     ],
     "language": "python",
     "metadata": {},
     "outputs": [
      {
       "metadata": {},
       "output_type": "display_data",
       "png": "[encoded data removed]",
       "text": [
        "<matplotlib.figure.Figure at 0x7f9d0185f850>"
       ]
      }
     ],
     "prompt_number": 16
    },
    {
     "cell_type": "code",
     "collapsed": false,
     "input": [
      "def getP(maxArray, cuttOff):\n",
      "    excess = 0\n",
      "    for i in maxArray:\n",
      "        if i >= cuttOff:\n",
      "            excess = excess + 1\n",
      "    return 1.0*excess\n",
      "    "
     ],
     "language": "python",
     "metadata": {},
     "outputs": [],
     "prompt_number": 17
    },
    {
     "cell_type": "code",
     "collapsed": false,
     "input": [
      "getP(maxCS, 19)"
     ],
     "language": "python",
     "metadata": {},
     "outputs": [
      {
       "metadata": {},
       "output_type": "pyout",
       "prompt_number": 20,
       "text": [
        "0.0"
       ]
      }
     ],
     "prompt_number": 20
    },
    {
     "cell_type": "code",
     "collapsed": false,
     "input": [
      "len(maxCS)"
     ],
     "language": "python",
     "metadata": {},
     "outputs": [
      {
       "metadata": {},
       "output_type": "pyout",
       "prompt_number": 15,
       "text": [
        "1000000"
       ]
      }
     ],
     "prompt_number": 15
    },
    {
     "cell_type": "code",
     "collapsed": false,
     "input": [],
     "language": "python",
     "metadata": {},
     "outputs": []
    }
   ],
   "metadata": {}
  }
 ]
}