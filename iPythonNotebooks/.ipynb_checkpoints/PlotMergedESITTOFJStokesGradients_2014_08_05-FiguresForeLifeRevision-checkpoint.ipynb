{
 "metadata": {
  "name": ""
 },
 "nbformat": 3,
 "nbformat_minor": 0,
 "worksheets": [
  {
   "cells": [
    {
     "cell_type": "code",
     "collapsed": false,
     "input": [
      "import qMS\n",
      "import qMSDefs\n",
      "import vizLib\n",
      "import glob\n",
      "import clusteringModule\n",
      "import pandas"
     ],
     "language": "python",
     "metadata": {},
     "outputs": [],
     "prompt_number": 1
    },
    {
     "cell_type": "code",
     "collapsed": false,
     "input": [
      "vizLib.setRcs(scale=12, axisLineWidth=0.5, tickScale=0.5)"
     ],
     "language": "python",
     "metadata": {},
     "outputs": [],
     "prompt_number": 106
    },
    {
     "cell_type": "code",
     "collapsed": false,
     "input": [
      "vizLib.css_styling()"
     ],
     "language": "python",
     "metadata": {},
     "outputs": [
      {
       "html": [
        "<style>\n",
        "    div.cell{\n",
        "        width:150%;\n",
        "        margin-left:-30%;\n",
        "        margin-right:0%;\n",
        "    }\n",
        "</style>\n"
       ],
       "metadata": {},
       "output_type": "pyout",
       "prompt_number": 107,
       "text": [
        "<IPython.core.display.HTML at 0x7fb9eacda1d0>"
       ]
      }
     ],
     "prompt_number": 107
    },
    {
     "cell_type": "code",
     "collapsed": false,
     "input": [
      "rootPathMerged = '/home/jhdavis/JStokes/2014_01_15-JStokesESITTOFGradientOrganized/dataSets/2014_01_12-GradientsESITTOFMerged/Merged/'\n",
      "\n",
      "fileswtMerged = qMS.sort_nicely([i for i in glob.glob(rootPathMerged+'wt*.csv*')])\n",
      "files1hrMerged = qMS.sort_nicely([i for i in glob.glob(rootPathMerged+'1hr*.csv*')])\n",
      "files6hrMerged = qMS.sort_nicely([i for i in glob.glob(rootPathMerged+'6hr*.csv*')])\n",
      "\n",
      "nameswtMerged = [i.split('/')[-1].split('.')[0]+'' for i in fileswtMerged]\n",
      "names1hrMerged = [i.split('/')[-1].split('.')[0]+'' for i in files1hrMerged]\n",
      "names6hrMerged = [i.split('/')[-1].split('.')[0]+'' for i in files6hrMerged]"
     ],
     "language": "python",
     "metadata": {},
     "outputs": [],
     "prompt_number": 108
    },
    {
     "cell_type": "code",
     "collapsed": false,
     "input": [
      "largeSubunit = qMSDefs.positionLabels50S[1:]\n",
      "smallSubunit = qMSDefs.positionLabels30S[2:]\n",
      "allSubunits = smallSubunit+largeSubunit\n",
      "\n",
      "draw = False\n",
      "saveFigPath ='/home/jhdavis/JStokes/2014_08_05-JStokeseLifeRevisionFigures/'\n",
      "\n",
      "vizLib.setRcs(scale=15, legendScale=15)\n",
      "\n",
      "num = ['AMP_U']\n",
      "den = ['AMP_S', 'AMP_U']"
     ],
     "language": "python",
     "metadata": {},
     "outputs": [],
     "prompt_number": 109
    },
    {
     "cell_type": "code",
     "collapsed": false,
     "input": [
      "def mm2inches(mm):\n",
      "    return mm*0.0393701"
     ],
     "language": "python",
     "metadata": {},
     "outputs": [],
     "prompt_number": 110
    },
    {
     "cell_type": "code",
     "collapsed": false,
     "input": [
      "def orderByFrac(dataMatrixFile, key, delimiter='\\t'):\n",
      "    pdm = pandas.DataFrame.from_csv(dataMatrixFile, sep='\\t')\n",
      "    hold=pdm[key].copy()\n",
      "    hold.sort()\n",
      "    return list(hold.index.values)"
     ],
     "language": "python",
     "metadata": {},
     "outputs": [],
     "prompt_number": 111
    },
    {
     "cell_type": "code",
     "collapsed": false,
     "input": [
      "namesList = [(fileswtMerged[i], nameswtMerged[i]) for i in range(len(fileswtMerged))]"
     ],
     "language": "python",
     "metadata": {},
     "outputs": [],
     "prompt_number": 112
    },
    {
     "cell_type": "code",
     "collapsed": false,
     "input": [
      "colors = [pylab.cm.jet(float(i)/float(len(fileswtMerged))) for i in range(len(fileswtMerged))]"
     ],
     "language": "python",
     "metadata": {},
     "outputs": [],
     "prompt_number": 113
    },
    {
     "cell_type": "code",
     "collapsed": false,
     "input": [
      "def plotDataSetsFiles(files, names, num, den, title, yLabel, colors=None, subunits=None, \n",
      "                        saveName=None, yMax=1.25, figSize=(22,5), median=False, \n",
      "                        legendLoc='upper left', legend=True, legendCols=3, \n",
      "                        normProtein=None, markerSize=None, noFill=False, mew=1, highlightMed=False, hms=2, yMin=0.0, hmFilled=True):\n",
      "\n",
      "    ax = vizLib.makePlotWithFileList(files, num, den, subunits=subunits, yMax=yMax, \n",
      "                                     names=names, colors=colors, figSize=figSize, \n",
      "                                     median=median, normProtein=normProtein, \n",
      "                                     markerSize=markerSize, noFill=noFill, mew=mew, highlightMed=highlightMed, hms=hms, yMin=yMin, hmFilled=hmFilled)\n",
      "    if legend:\n",
      "        pylab.legend(loc=legendLoc, ncol=legendCols)\n",
      "    ax.set_title(title, multialignment='center')\n",
      "    ax.set_ylabel(yLabel)\n",
      "    vizLib.cleanAxis(ax, ticksOnly=True)\n",
      "    ax.set_yticks([0,0.35, 0.7])\n",
      "    if not (saveName is None):\n",
      "        pylab.savefig(saveName)\n",
      "    return ax"
     ],
     "language": "python",
     "metadata": {},
     "outputs": [],
     "prompt_number": 114
    },
    {
     "cell_type": "code",
     "collapsed": false,
     "input": [
      "yMax=0.7\n",
      "yLabel = ''\n",
      "figSize=(1.6*8,0.95*4)\n",
      "median=False\n",
      "normProtein=None\n",
      "selectSubs=['S3', 'S15', 'L28', 'L24']\n",
      "fracs = range(0,28)\n",
      "#fracs.append(28)\n",
      "markerSize=2\n",
      "mew=0\n",
      "w=85\n",
      "h=25\n",
      "figSize=(mm2inches(w),mm2inches(h))\n",
      "a1 = plotDataSetsFiles([fileswtMerged[i] for i in fracs], [nameswtMerged[i] for i in fracs], num, den, 'DMSO - 6 hr', yLabel, \n",
      "                        colors=None, subunits=selectSubs, saveName=None, yMax=yMax,\n",
      "                        figSize=figSize, median=median, legendLoc='upper left', \n",
      "                        legend=False, normProtein=normProtein, \n",
      "                        markerSize=markerSize, noFill=False, mew=0, highlightMed=True, hms=3, hmFilled=True)\n",
      "a2 = plotDataSetsFiles([files6hrMerged[i] for i in fracs], [names6hrMerged[i] for i in fracs], num, den, 'LAM - 6 hr', yLabel, \n",
      "                        colors=None, subunits=selectSubs, saveName=None, yMax=yMax,\n",
      "                        figSize=figSize, median=median, legendLoc='upper left', \n",
      "                        legend=False, normProtein=normProtein, \n",
      "                        markerSize=markerSize, noFill=False, mew=0, highlightMed=True, hms=3, hmFilled=True)"
     ],
     "language": "python",
     "metadata": {},
     "outputs": [
      {
       "metadata": {},
       "output_type": "display_data",
       "png": "[encoded data removed]",
       "text": [
        "<matplotlib.figure.Figure at 0x7fb9ea1e1fd0>"
       ]
      },
      {
       "metadata": {},
       "output_type": "display_data",
       "png": "[encoded data removed]",
       "text": [
        "<matplotlib.figure.Figure at 0x7fb9ea9e4b90>"
       ]
      }
     ],
     "prompt_number": 115
    }
   ],
   "metadata": {}
  }
 ]
}